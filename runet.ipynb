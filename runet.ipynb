{
 "cells": [
  {
   "cell_type": "code",
   "execution_count": null,
   "outputs": [],
   "source": [
    "from keras_unet_collection import models as kmodels\n",
    "from keras.callbacks import CSVLogger, ModelCheckpoint, LearningRateScheduler\n",
    "\n",
    "from keras import utils\n",
    "from keras import models, backend\n",
    "from keras.optimizers import Adam\n",
    "from keras.layers import Input, Conv2D, MaxPooling2D, Dropout, \\\n",
    "    UpSampling2D, BatchNormalization, Concatenate, Activation, Conv2DTranspose, \\\n",
    "    Add\n",
    "\n",
    "import re\n",
    "import matplotlib.pyplot as plt\n",
    "import sys, gc, os\n",
    "import glob\n",
    "import random\n",
    "from tqdm import tqdm\n",
    "import tensorflow as tf"
   ],
   "metadata": {
    "collapsed": false,
    "pycharm": {
     "name": "#%%\n"
    }
   }
  },
  {
   "cell_type": "code",
   "execution_count": null,
   "metadata": {
    "collapsed": true,
    "pycharm": {
     "name": "#%%\n"
    }
   },
   "outputs": [],
   "source": [
    "##Network Architecture: R-Unet\n",
    "def URES34NET(org_shape, iteration, n_ch, donly):\n",
    "    # Input\n",
    "    original = Input(shape=org_shape)\n",
    "\n",
    "    # Encoding_layer1\n",
    "    for ii in range(iteration[0]):\n",
    "        if ii == 0:\n",
    "            c1 = first_block(original, 16)\n",
    "        else:\n",
    "            c1 = simple_block_dil(c1, 16)\n",
    "    concate1 = c1\n",
    "\n",
    "    # Encoding_layer2\n",
    "    for ii in range(iteration[1]):\n",
    "        if ii == 0:\n",
    "            c2 = down_block(c1, 32)\n",
    "        else:\n",
    "            c2 = simple_block_dil(c2, 32)\n",
    "    concate2 = c2\n",
    "\n",
    "    # Encoding_layer3\n",
    "    for ii in range(iteration[2]):\n",
    "        if ii == 0:\n",
    "            c3 = down_block(c2, 64)\n",
    "        else:\n",
    "            c3 = simple_block_dil(c3, 64)\n",
    "    concate3 = c3\n",
    "\n",
    "    # Encoding_layer4\n",
    "    for ii in range(iteration[3]):\n",
    "        if ii == 0:\n",
    "            c4 = down_block(c3, 128)\n",
    "        else:\n",
    "            c4 = simple_block_dil(c4, 128)\n",
    "    concate4 = c4\n",
    "\n",
    "    if donly:\n",
    "        print(\"Down: RUnet34, Up: Unet\")\n",
    "        x = deconv_unet(c4, concate3, 64)\n",
    "        x = deconv_unet(x, concate2, 32)\n",
    "        x = deconv_unet(x, concate1, 16)\n",
    "\n",
    "        decoded = Conv2D(n_ch, (3, 3), activation='sigmoid', padding='same')(x)\n",
    "\n",
    "    else:\n",
    "        print(\"Down: RUnet34, Up: RUnet34\")\n",
    "        # Decoding_layer1\n",
    "        for ii in range(iteration[2]):\n",
    "            if ii == 0:\n",
    "                u1 = up_block(c4, concate3, 64)\n",
    "                print(u1.shape)\n",
    "            else:\n",
    "                u1 = simple_block(u1, 64)\n",
    "\n",
    "        # Decoding_layer2\n",
    "        for ii in range(iteration[1]):\n",
    "            if ii == 0:\n",
    "                u2 = up_block(u1, concate2, 32)\n",
    "            else:\n",
    "                u2 = simple_block(u2, 32)\n",
    "\n",
    "        # Decoding_layer3\n",
    "        for ii in range(iteration[0]):\n",
    "            if ii == 0:\n",
    "                u3 = up_block(u2, concate1, 16)\n",
    "            else:\n",
    "                u3 = simple_block(u3, 16)\n",
    "\n",
    "        decoded = Conv2D(n_ch, (3, 3), activation='softmax', padding='same')(u3)\n",
    "\n",
    "    model = models.Model(inputs=original, outputs=decoded)\n",
    "\n",
    "    return model"
   ]
  }
 ],
 "metadata": {
  "kernelspec": {
   "display_name": "Python 3",
   "language": "python",
   "name": "python3"
  },
  "language_info": {
   "codemirror_mode": {
    "name": "ipython",
    "version": 2
   },
   "file_extension": ".py",
   "mimetype": "text/x-python",
   "name": "python",
   "nbconvert_exporter": "python",
   "pygments_lexer": "ipython2",
   "version": "2.7.6"
  }
 },
 "nbformat": 4,
 "nbformat_minor": 0
}