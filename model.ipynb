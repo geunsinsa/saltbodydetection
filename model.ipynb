{
 "cells": [
  {
   "cell_type": "code",
   "execution_count": 17,
   "outputs": [],
   "source": [
    "from keras_unet_collection import models as kmodels\n",
    "from keras.callbacks import CSVLogger, ModelCheckpoint, LearningRateScheduler\n",
    "\n",
    "from keras import utils\n",
    "from keras import models, backend\n",
    "from keras.optimizers import Adam\n",
    "from keras.layers import Input, Conv2D, MaxPooling2D, Dropout, \\\n",
    "    UpSampling2D, BatchNormalization, Concatenate, Activation, Conv2DTranspose, \\\n",
    "    Add\n",
    "\n",
    "import re\n",
    "import matplotlib.pyplot as plt\n",
    "import sys, gc, os\n",
    "import glob\n",
    "import random\n",
    "from tqdm import tqdm\n",
    "import tensorflow as tf\n",
    "import numpy as np\n",
    "import glob\n",
    "from PIL import Image\n",
    "# from keras.utils.multi_gpu_utils import multi_gpu_model\n",
    "# from tensorflow.python.keras.utils.multi"
   ],
   "metadata": {
    "collapsed": false,
    "pycharm": {
     "name": "#%%\n"
    }
   }
  },
  {
   "cell_type": "code",
   "execution_count": 18,
   "outputs": [],
   "source": [
    "# convlution blocks\n",
    "def bn_ac_conv(x, n_f, stride):\n",
    "    x = BatchNormalization()(x)\n",
    "    x = Activation('relu')(x)\n",
    "    x = Conv2D(n_f, (3, 3), strides=stride, padding = 'same')(x)\n",
    "    return x"
   ],
   "metadata": {
    "collapsed": false,
    "pycharm": {
     "name": "#%%\n"
    }
   }
  },
  {
   "cell_type": "code",
   "execution_count": 19,
   "outputs": [],
   "source": [
    "def conv_unet(x, n_f, mp_flag=True):\n",
    "    x = MaxPooling2D((2, 2), padding='same')(x) if mp_flag else x\n",
    "    x = Conv2D(n_f, (3, 3), padding='same')(x)\n",
    "    x = BatchNormalization()(x)\n",
    "    x = Activation('relu')(x)\n",
    "    x = Dropout(0.05)(x)\n",
    "    x = Conv2D(n_f, (3, 3), padding='same')(x)\n",
    "    x = BatchNormalization()(x)\n",
    "    x = Activation('relu')(x)\n",
    "    return x"
   ],
   "metadata": {
    "collapsed": false,
    "pycharm": {
     "name": "#%%\n"
    }
   }
  },
  {
   "cell_type": "code",
   "execution_count": 20,
   "outputs": [],
   "source": [
    "def AE(org_shape, n_ch):\n",
    "    print(\"Down: Unet, Up: Unet\")\n",
    "    # Input\n",
    "    original = Input(shape=org_shape)\n",
    "\n",
    "    # Encoding\n",
    "    c1 = conv_unet(original, 16, mp_flag=False)\n",
    "    c2 = conv_unet(c1, 32)\n",
    "    c3 = conv_unet(c2, 64)\n",
    "\n",
    "    # Encoder\n",
    "    encoded = conv_unet(c3, 128)\n",
    "\n",
    "    # Decoding(original)\n",
    "    x = deconv_ae(encoded, c3, 64)\n",
    "    x = deconv_ae(x, c2, 32)\n",
    "    x = deconv_ae(x, c1, 16)\n",
    "\n",
    "    decoded = Conv2D(n_ch, (3, 3), activation='sigmoid', padding='same')(x)\n",
    "    model = models.Model(inputs=original, outputs=decoded)\n",
    "\n",
    "    return model\n",
    "\n",
    "def deconv_ae(x, e, n_f):\n",
    "    ic = 3\n",
    "    x = Conv2DTranspose(n_f, (3, 3), strides=(2,2), padding='same')(x)\n",
    "    x = Conv2D(n_f, (3, 3), padding='same')(x)\n",
    "    x = BatchNormalization()(x)\n",
    "    x = Activation('relu')(x)\n",
    "    x = Conv2D(n_f, (3, 3), padding='same')(x)\n",
    "    x = BatchNormalization()(x)\n",
    "    x = Activation('relu')(x)\n",
    "    return x"
   ],
   "metadata": {
    "collapsed": false,
    "pycharm": {
     "name": "#%%\n"
    }
   }
  },
  {
   "cell_type": "code",
   "execution_count": 21,
   "outputs": [],
   "source": [
    "# 이미지를 numpy로 가져오는 함수\n",
    "def getImageData(path):\n",
    "    filepath = path\n",
    "    data = glob.glob(filepath + '*')\n",
    "    feature = []\n",
    "    target = []\n",
    "    for path_ in data:\n",
    "        extension = path_.split('/')[-1].split('.')[1]\n",
    "        num = path_.split('/')[-1].split('.')[0].split('_')[1]\n",
    "        label = path_.split('/')[-1].split('.')[0].split('_')[0]\n",
    "\n",
    "        if label == 'image' and extension == 'png':\n",
    "            img = Image.open(path_)\n",
    "            img = np.array(img)\n",
    "            feature.append(img)\n",
    "\n",
    "            ans = Image.open(filepath+f'mask_{num}.png')\n",
    "            ans = np.array(ans)\n",
    "            target.append(ans)\n",
    "\n",
    "    return np.array(feature), np.array(target)"
   ],
   "metadata": {
    "collapsed": false,
    "pycharm": {
     "name": "#%%\n"
    }
   }
  },
  {
   "cell_type": "code",
   "execution_count": 22,
   "outputs": [],
   "source": [
    "train_x, train_y = getImageData('image/train/')\n",
    "test_x, test_y = getImageData('image/test/')\n",
    "train_x = train_x.astype('float32') / 255\n",
    "train_y = train_y.astype('float32') / 255\n",
    "test_x = test_x.astype('float32') / 255\n",
    "test_y = test_y.astype('float32') / 255\n",
    "\n",
    "from keras.models import Sequential, Model\n",
    "from keras.layers import Input, Dense, Conv2D, MaxPooling2D,UpSampling2D,Flatten,Reshape\n",
    "\n",
    "train_x =  train_x.reshape(train_x.shape[0],96,96,1)\n",
    "train_y =  train_y.reshape(train_y.shape[0],96,96,1)\n",
    "test_x = test_x.reshape(test_x.shape[0],96,96,1)\n",
    "test_y = test_y.reshape(test_y.shape[0],96,96,1)"
   ],
   "metadata": {
    "collapsed": false,
    "pycharm": {
     "name": "#%%\n"
    }
   }
  },
  {
   "cell_type": "code",
   "execution_count": 26,
   "outputs": [
    {
     "name": "stdout",
     "output_type": "stream",
     "text": [
      "Down: Unet, Up: Unet\n",
      "Model: \"model_4\"\n",
      "_________________________________________________________________\n",
      " Layer (type)                Output Shape              Param #   \n",
      "=================================================================\n",
      " input_5 (InputLayer)        [(None, 96, 96, 1)]       0         \n",
      "                                                                 \n",
      " conv2d_60 (Conv2D)          (None, 96, 96, 16)        160       \n",
      "                                                                 \n",
      " batch_normalization_56 (Bat  (None, 96, 96, 16)       64        \n",
      " chNormalization)                                                \n",
      "                                                                 \n",
      " activation_56 (Activation)  (None, 96, 96, 16)        0         \n",
      "                                                                 \n",
      " dropout_16 (Dropout)        (None, 96, 96, 16)        0         \n",
      "                                                                 \n",
      " conv2d_61 (Conv2D)          (None, 96, 96, 16)        2320      \n",
      "                                                                 \n",
      " batch_normalization_57 (Bat  (None, 96, 96, 16)       64        \n",
      " chNormalization)                                                \n",
      "                                                                 \n",
      " activation_57 (Activation)  (None, 96, 96, 16)        0         \n",
      "                                                                 \n",
      " max_pooling2d_12 (MaxPoolin  (None, 48, 48, 16)       0         \n",
      " g2D)                                                            \n",
      "                                                                 \n",
      " conv2d_62 (Conv2D)          (None, 48, 48, 32)        4640      \n",
      "                                                                 \n",
      " batch_normalization_58 (Bat  (None, 48, 48, 32)       128       \n",
      " chNormalization)                                                \n",
      "                                                                 \n",
      " activation_58 (Activation)  (None, 48, 48, 32)        0         \n",
      "                                                                 \n",
      " dropout_17 (Dropout)        (None, 48, 48, 32)        0         \n",
      "                                                                 \n",
      " conv2d_63 (Conv2D)          (None, 48, 48, 32)        9248      \n",
      "                                                                 \n",
      " batch_normalization_59 (Bat  (None, 48, 48, 32)       128       \n",
      " chNormalization)                                                \n",
      "                                                                 \n",
      " activation_59 (Activation)  (None, 48, 48, 32)        0         \n",
      "                                                                 \n",
      " max_pooling2d_13 (MaxPoolin  (None, 24, 24, 32)       0         \n",
      " g2D)                                                            \n",
      "                                                                 \n",
      " conv2d_64 (Conv2D)          (None, 24, 24, 64)        18496     \n",
      "                                                                 \n",
      " batch_normalization_60 (Bat  (None, 24, 24, 64)       256       \n",
      " chNormalization)                                                \n",
      "                                                                 \n",
      " activation_60 (Activation)  (None, 24, 24, 64)        0         \n",
      "                                                                 \n",
      " dropout_18 (Dropout)        (None, 24, 24, 64)        0         \n",
      "                                                                 \n",
      " conv2d_65 (Conv2D)          (None, 24, 24, 64)        36928     \n",
      "                                                                 \n",
      " batch_normalization_61 (Bat  (None, 24, 24, 64)       256       \n",
      " chNormalization)                                                \n",
      "                                                                 \n",
      " activation_61 (Activation)  (None, 24, 24, 64)        0         \n",
      "                                                                 \n",
      " max_pooling2d_14 (MaxPoolin  (None, 12, 12, 64)       0         \n",
      " g2D)                                                            \n",
      "                                                                 \n",
      " conv2d_66 (Conv2D)          (None, 12, 12, 128)       73856     \n",
      "                                                                 \n",
      " batch_normalization_62 (Bat  (None, 12, 12, 128)      512       \n",
      " chNormalization)                                                \n",
      "                                                                 \n",
      " activation_62 (Activation)  (None, 12, 12, 128)       0         \n",
      "                                                                 \n",
      " dropout_19 (Dropout)        (None, 12, 12, 128)       0         \n",
      "                                                                 \n",
      " conv2d_67 (Conv2D)          (None, 12, 12, 128)       147584    \n",
      "                                                                 \n",
      " batch_normalization_63 (Bat  (None, 12, 12, 128)      512       \n",
      " chNormalization)                                                \n",
      "                                                                 \n",
      " activation_63 (Activation)  (None, 12, 12, 128)       0         \n",
      "                                                                 \n",
      " conv2d_transpose_12 (Conv2D  (None, 24, 24, 64)       73792     \n",
      " Transpose)                                                      \n",
      "                                                                 \n",
      " conv2d_68 (Conv2D)          (None, 24, 24, 64)        36928     \n",
      "                                                                 \n",
      " batch_normalization_64 (Bat  (None, 24, 24, 64)       256       \n",
      " chNormalization)                                                \n",
      "                                                                 \n",
      " activation_64 (Activation)  (None, 24, 24, 64)        0         \n",
      "                                                                 \n",
      " conv2d_69 (Conv2D)          (None, 24, 24, 64)        36928     \n",
      "                                                                 \n",
      " batch_normalization_65 (Bat  (None, 24, 24, 64)       256       \n",
      " chNormalization)                                                \n",
      "                                                                 \n",
      " activation_65 (Activation)  (None, 24, 24, 64)        0         \n",
      "                                                                 \n",
      " conv2d_transpose_13 (Conv2D  (None, 48, 48, 32)       18464     \n",
      " Transpose)                                                      \n",
      "                                                                 \n",
      " conv2d_70 (Conv2D)          (None, 48, 48, 32)        9248      \n",
      "                                                                 \n",
      " batch_normalization_66 (Bat  (None, 48, 48, 32)       128       \n",
      " chNormalization)                                                \n",
      "                                                                 \n",
      " activation_66 (Activation)  (None, 48, 48, 32)        0         \n",
      "                                                                 \n",
      " conv2d_71 (Conv2D)          (None, 48, 48, 32)        9248      \n",
      "                                                                 \n",
      " batch_normalization_67 (Bat  (None, 48, 48, 32)       128       \n",
      " chNormalization)                                                \n",
      "                                                                 \n",
      " activation_67 (Activation)  (None, 48, 48, 32)        0         \n",
      "                                                                 \n",
      " conv2d_transpose_14 (Conv2D  (None, 96, 96, 16)       4624      \n",
      " Transpose)                                                      \n",
      "                                                                 \n",
      " conv2d_72 (Conv2D)          (None, 96, 96, 16)        2320      \n",
      "                                                                 \n",
      " batch_normalization_68 (Bat  (None, 96, 96, 16)       64        \n",
      " chNormalization)                                                \n",
      "                                                                 \n",
      " activation_68 (Activation)  (None, 96, 96, 16)        0         \n",
      "                                                                 \n",
      " conv2d_73 (Conv2D)          (None, 96, 96, 16)        2320      \n",
      "                                                                 \n",
      " batch_normalization_69 (Bat  (None, 96, 96, 16)       64        \n",
      " chNormalization)                                                \n",
      "                                                                 \n",
      " activation_69 (Activation)  (None, 96, 96, 16)        0         \n",
      "                                                                 \n",
      " conv2d_74 (Conv2D)          (None, 96, 96, 1)         145       \n",
      "                                                                 \n",
      "=================================================================\n",
      "Total params: 490,065\n",
      "Trainable params: 488,657\n",
      "Non-trainable params: 1,408\n",
      "_________________________________________________________________\n",
      "WARNING:tensorflow:`period` argument is deprecated. Please use `save_freq` to specify the frequency in number of batches seen.\n",
      "Epoch 1/10\n"
     ]
    },
    {
     "name": "stderr",
     "output_type": "stream",
     "text": [
      "2023-10-11 23:00:35.698262: W tensorflow/tsl/platform/profile_utils/cpu_utils.cc:128] Failed to get CPU frequency: 0 Hz\n"
     ]
    },
    {
     "name": "stdout",
     "output_type": "stream",
     "text": [
      "38/38 [==============================] - ETA: 0s - loss: 0.7749\n",
      "Epoch 1: saving model to model/model_001.hdf5\n",
      "38/38 [==============================] - 38s 971ms/step - loss: 0.7749 - val_loss: 0.6780\n",
      "Epoch 2/10\n",
      "38/38 [==============================] - ETA: 0s - loss: 0.6539\n",
      "Epoch 2: saving model to model/model_002.hdf5\n",
      "38/38 [==============================] - 39s 1s/step - loss: 0.6539 - val_loss: 0.6488\n",
      "Epoch 3/10\n",
      "38/38 [==============================] - ETA: 0s - loss: 0.5857\n",
      "Epoch 3: saving model to model/model_003.hdf5\n",
      "38/38 [==============================] - 43s 1s/step - loss: 0.5857 - val_loss: 0.5934\n",
      "Epoch 4/10\n",
      "38/38 [==============================] - ETA: 0s - loss: 0.5238\n",
      "Epoch 4: saving model to model/model_004.hdf5\n",
      "38/38 [==============================] - 44s 1s/step - loss: 0.5238 - val_loss: 0.5652\n",
      "Epoch 5/10\n",
      "38/38 [==============================] - ETA: 0s - loss: 0.3990\n",
      "Epoch 5: saving model to model/model_005.hdf5\n",
      "38/38 [==============================] - 42s 1s/step - loss: 0.3990 - val_loss: 0.5960\n",
      "Epoch 6/10\n",
      "38/38 [==============================] - ETA: 0s - loss: 0.3515\n",
      "Epoch 6: saving model to model/model_006.hdf5\n",
      "38/38 [==============================] - 42s 1s/step - loss: 0.3515 - val_loss: 0.7446\n",
      "Epoch 7/10\n",
      "38/38 [==============================] - ETA: 0s - loss: 0.3095\n",
      "Epoch 7: saving model to model/model_007.hdf5\n",
      "38/38 [==============================] - 42s 1s/step - loss: 0.3095 - val_loss: 0.9088\n",
      "Epoch 8/10\n",
      "38/38 [==============================] - ETA: 0s - loss: 0.2897\n",
      "Epoch 8: saving model to model/model_008.hdf5\n",
      "38/38 [==============================] - 42s 1s/step - loss: 0.2897 - val_loss: 0.9630\n",
      "Epoch 9/10\n",
      "38/38 [==============================] - ETA: 0s - loss: 0.2812\n",
      "Epoch 9: saving model to model/model_009.hdf5\n",
      "38/38 [==============================] - 43s 1s/step - loss: 0.2812 - val_loss: 0.9119\n",
      "Epoch 10/10\n",
      "38/38 [==============================] - ETA: 0s - loss: 0.2583\n",
      "Epoch 10: saving model to model/model_010.hdf5\n",
      "38/38 [==============================] - 45s 1s/step - loss: 0.2583 - val_loss: 1.3474\n"
     ]
    }
   ],
   "source": [
    "model = AE((96,96,1), 1)\n",
    "model.summary()\n",
    "\n",
    "#complie model\n",
    "model.compile(optimizer='adam', loss='binary_crossentropy')\n",
    "#\n",
    "#save model, write logs\n",
    "checkpointer = ModelCheckpoint(os.path.join('model/', 'model_{epoch:03d}.hdf5'),\n",
    "                               verbose=1, save_weights_only=False, period=1)\n",
    "csv_logger = CSVLogger(os.path.join('model/', 'log.csv'), append=True, separator=',')\n",
    "\n",
    "#training\n",
    "history = model.fit(train_x, train_y,\n",
    "                    epochs=10,\n",
    "                    batch_size=64,\n",
    "                    shuffle=True,\n",
    "                    validation_split=0.25,\n",
    "                    callbacks=[checkpointer, csv_logger])"
   ],
   "metadata": {
    "collapsed": false,
    "pycharm": {
     "name": "#%%\n"
    }
   }
  },
  {
   "cell_type": "code",
   "execution_count": 27,
   "outputs": [
    {
     "name": "stdout",
     "output_type": "stream",
     "text": [
      "25/25 [==============================] - 3s 127ms/step\n"
     ]
    },
    {
     "data": {
      "text/plain": "<Figure size 1400x400 with 20 Axes>",
      "image/png": "[encoded data removed]"
     },
     "metadata": {},
     "output_type": "display_data"
    }
   ],
   "source": [
    "import keras\n",
    "random_test = np.random.randint(test_x.shape[0],size=10)\n",
    "ae_imgs = model.predict(test_x)\n",
    "plt.figure(figsize=(14,4))\n",
    "for i, image_idx in enumerate(random_test):\n",
    "    ax = plt.subplot(4,14,i+1)\n",
    "    plt.imshow(test_y[image_idx].reshape(96,96) * 255,cmap='gray')\n",
    "    ax.axis('off')\n",
    "    ax = plt.subplot(4,14,14+i+1)\n",
    "    plt.imshow(ae_imgs[image_idx].reshape(96,96)*255,cmap='gray')\n",
    "    ax.axis('off')\n",
    "\n",
    "plt.show()"
   ],
   "metadata": {
    "collapsed": false,
    "pycharm": {
     "name": "#%%\n"
    }
   }
  },
  {
   "cell_type": "code",
   "execution_count": null,
   "outputs": [],
   "source": [],
   "metadata": {
    "collapsed": false,
    "pycharm": {
     "name": "#%%\n"
    }
   }
  }
 ],
 "metadata": {
  "kernelspec": {
   "display_name": "Python 3",
   "language": "python",
   "name": "python3"
  },
  "language_info": {
   "codemirror_mode": {
    "name": "ipython",
    "version": 2
   },
   "file_extension": ".py",
   "mimetype": "text/x-python",
   "name": "python",
   "nbconvert_exporter": "python",
   "pygments_lexer": "ipython2",
   "version": "2.7.6"
  }
 },
 "nbformat": 4,
 "nbformat_minor": 0
}